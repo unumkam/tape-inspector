{
 "cells": [
  {
   "cell_type": "code",
   "execution_count": null,
   "metadata": {},
   "outputs": [
    {
     "name": "stdout",
     "output_type": "stream",
     "text": [
      "b'!0\"0\"0\"0\"017\"776'\n",
      "b'!1\"0\"1\"1\"045\"658'\n",
      "b'!0\"0\"0\"0\"097\"823'\n",
      "b'!1\"1\"1\"1\"063\"909'\n",
      "b'!1\"1\"0\"1\"003\"455'\n",
      "b'!1\"0\"1\"1\"057\"478'\n",
      "b'!1\"1\"0\"1\"096\"746'\n",
      "b'!1\"1\"1\"1\"022\"142'\n",
      "b'!1\"0\"0\"1\"005\"316'\n",
      "b'!0\"1\"1\"0\"047\"382'\n",
      "b'!1\"1\"0\"1\"043\"957'\n",
      "b'!0\"0\"1\"0\"002\"039'\n",
      "b'!0\"0\"0\"0\"089\"034'\n",
      "b'!0\"1\"1\"0\"019\"397'\n",
      "b'!0\"1\"0\"0\"031\"999'\n",
      "b'!0\"1\"1\"0\"013\"728'\n",
      "b'!1\"1\"0\"1\"033\"343'\n",
      "b'!1\"0\"1\"1\"000\"621'\n",
      "b'!1\"0\"0\"1\"041\"876'\n",
      "b'!0\"0\"1\"0\"077\"064'\n",
      "b'!1\"1\"0\"1\"065\"601'\n",
      "b'!0\"0\"1\"0\"040\"505'\n",
      "b'!1\"1\"0\"1\"006\"393'\n",
      "b'!1\"0\"1\"1\"100\"162'\n",
      "b'!0\"0\"0\"0\"027\"569'\n",
      "b'!1\"0\"1\"1\"083\"600'\n",
      "b'!0\"1\"0\"0\"034\"134'\n",
      "b'!0\"0\"1\"0\"040\"526'\n",
      "b'!0\"0\"0\"0\"066\"568'\n",
      "b'!0\"0\"1\"0\"045\"918'\n",
      "b'!0\"1\"0\"0\"098\"340'\n",
      "b'!0\"1\"1\"0\"018\"878'\n"
     ]
    }
   ],
   "source": [
    "# Client test\n",
    "\n",
    "import socket\n",
    "import time\n",
    "\n",
    "sock = socket.socket()\n",
    "sock.connect(('localhost', 9090))\n",
    "for i in range(0,100):\n",
    "    sock.send(b'hello, world!')\n",
    "    data = sock.recv(1024)\n",
    "    print(data)\n",
    "    time.sleep(4)\n",
    "    \n",
    "print(\"100 sent\")\n",
    "sock.close()\n",
    "\n",
    "print(data)"
   ]
  },
  {
   "cell_type": "code",
   "execution_count": null,
   "metadata": {},
   "outputs": [],
   "source": []
  },
  {
   "cell_type": "code",
   "execution_count": null,
   "metadata": {},
   "outputs": [],
   "source": []
  },
  {
   "cell_type": "code",
   "execution_count": null,
   "metadata": {},
   "outputs": [],
   "source": []
  },
  {
   "cell_type": "code",
   "execution_count": null,
   "metadata": {},
   "outputs": [],
   "source": []
  }
 ],
 "metadata": {
  "kernelspec": {
   "display_name": "Python 3",
   "language": "python",
   "name": "python3"
  },
  "language_info": {
   "codemirror_mode": {
    "name": "ipython",
    "version": 3
   },
   "file_extension": ".py",
   "mimetype": "text/x-python",
   "name": "python",
   "nbconvert_exporter": "python",
   "pygments_lexer": "ipython3",
   "version": "3.8.5"
  }
 },
 "nbformat": 4,
 "nbformat_minor": 4
}
