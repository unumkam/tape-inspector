{
 "cells": [
  {
   "cell_type": "code",
   "execution_count": null,
   "metadata": {},
   "outputs": [
    {
     "name": "stdout",
     "output_type": "stream",
     "text": [
      "b'!0\"0\"1\"0\"061\"422'\n"
     ]
    }
   ],
   "source": [
    "import socket\n",
    "import time\n",
    "from time import sleep \n",
    "\n",
    "from os import system, name \n",
    "from IPython.display import clear_output\n",
    "\n",
    "def isnotebook():\n",
    "    try:\n",
    "        shell = get_ipython().__class__.__name__\n",
    "        if shell == 'ZMQInteractiveShell':\n",
    "            return True   # Jupyter notebook or qtconsole\n",
    "        elif shell == 'TerminalInteractiveShell':\n",
    "            return False  # Terminal running IPython\n",
    "        else:\n",
    "            return False  # Other type (?)\n",
    "    except NameError:\n",
    "        return False      # Probably standard Python interpreter\n",
    "\n",
    "# define our clear function \n",
    "def clear(): \n",
    "    if not isnotebook():\n",
    "        # for windows \n",
    "        if name == 'nt': \n",
    "            system('cls') \n",
    "\n",
    "        # for mac and linux(here, os.name is 'posix') \n",
    "        else: \n",
    "            system('clear')\n",
    "    else:\n",
    "        clear_output(wait=True)\n",
    "    return\n",
    "\n",
    "print(isnotebook())\n",
    "sock = socket.socket()\n",
    "sock.connect(('localhost', 9090))\n",
    "for i in range(0,100):\n",
    "    sock.send(b'hello, world!')\n",
    "    data = sock.recv(1024)\n",
    "    clear()\n",
    "    print(data)\n",
    "    time.sleep(4)\n",
    "    \n",
    "print(\"100 sent\")\n",
    "sock.close()\n",
    "\n",
    "print(data)"
   ]
  },
  {
   "cell_type": "code",
   "execution_count": null,
   "metadata": {},
   "outputs": [],
   "source": []
  },
  {
   "cell_type": "code",
   "execution_count": null,
   "metadata": {},
   "outputs": [],
   "source": []
  },
  {
   "cell_type": "code",
   "execution_count": null,
   "metadata": {},
   "outputs": [],
   "source": []
  },
  {
   "cell_type": "code",
   "execution_count": null,
   "metadata": {},
   "outputs": [],
   "source": []
  }
 ],
 "metadata": {
  "kernelspec": {
   "display_name": "Python 3",
   "language": "python",
   "name": "python3"
  },
  "language_info": {
   "codemirror_mode": {
    "name": "ipython",
    "version": 3
   },
   "file_extension": ".py",
   "mimetype": "text/x-python",
   "name": "python",
   "nbconvert_exporter": "python",
   "pygments_lexer": "ipython3",
   "version": "3.8.5"
  }
 },
 "nbformat": 4,
 "nbformat_minor": 4
}
